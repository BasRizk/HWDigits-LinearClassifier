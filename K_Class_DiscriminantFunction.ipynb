{
 "cells": [
  {
   "cell_type": "markdown",
   "metadata": {},
   "source": [
    "# K Class classifier using Lesat squares Algorithm"
   ]
  },
  {
   "cell_type": "code",
   "execution_count": 1,
   "metadata": {},
   "outputs": [],
   "source": [
    "import numpy as np\n",
    "import matplotlib.pyplot as plt\n",
    "import os"
   ]
  },
  {
   "cell_type": "markdown",
   "metadata": {},
   "source": [
    "### Training and Test Directory Paths"
   ]
  },
  {
   "cell_type": "code",
   "execution_count": 2,
   "metadata": {},
   "outputs": [],
   "source": [
    "train_path = \"Train\"\n",
    "test_path = \"Test\"\n",
    "train_labels_path = \"Train/Training Labels.txt\"\n",
    "test_labels_path = \"Test/Test Labels.txt\""
   ]
  },
  {
   "cell_type": "code",
   "execution_count": 160,
   "metadata": {},
   "outputs": [],
   "source": [
    "def get_data(dir_path, labels_path, num_of_imgs): \n",
    "    labels = open(labels_path).readlines()\n",
    "    X = np.zeros([num_of_imgs, 784])\n",
    "    T_labels = np.zeros([num_of_imgs,1])    \n",
    "    for filepath in os.listdir(dir_path):\n",
    "        if filepath.endswith(\".jpg\"):\n",
    "            index = int(filepath[:-4]) - 1\n",
    "            image_array = plt.imread(os.path.join(dir_path, filepath))\\\n",
    "                            .flatten()\n",
    "            X[index] = image_array\n",
    "            T_labels[index] = int(labels[index])\n",
    "    X = np.insert(X, X.shape[1], values=1, axis=1)\n",
    "    return X, T_labels\n",
    "\n",
    "def create_confusion_matrix(T_predict, T_labels, label):\n",
    "    T_predict = (T_predict > 0).astype(int)\n",
    "    T_orig = np.mat(np.transpose(np.where(T_labels == label, 2, 0)))\n",
    "    diff_vector = (T_orig - T_predict)\n",
    "    # 2 - 1 = 1; 2-0 = 0\n",
    "    T_true_true = np.count_nonzero(diff_vector == 1) \n",
    "    # 0 - 1 = -1\n",
    "    T_false_true = np.count_nonzero(diff_vector < 0)\n",
    "    # 2 - 0 = 2\n",
    "    T_false_false = np.count_nonzero(diff_vector == 2)\n",
    "    T_true_false = T_labels.shape[0] - T_true_true -\\\n",
    "                    T_false_true - T_false_false\n",
    "#    TODO MAYBE CHANGE ORDER\n",
    "    conf_mat = np.zeros([2,2])\n",
    "    conf_mat[0][:] = T_true_true, T_false_true\n",
    "    conf_mat[1][:] = T_false_false, T_true_false\n",
    "    return conf_mat\n",
    "\n",
    "def create_confusion_matrix2(all_test, T_labels):\n",
    "    confusion_matrix = np.zeros([10,10])\n",
    "    for i in range(0, T_labels.shape[0]):\n",
    "        maxValueIndex = 0\n",
    "        maxValue = (all_test[i,0])\n",
    "        for j in range(1,10):\n",
    "            if(all_test[i,j] > maxValue):\n",
    "                maxValue = all_test[i,j]\n",
    "                maxValueIndex = j\n",
    "        currentLabel = maxValueIndex\n",
    "        confusion_matrix[T_labels[i,0].astype(int),currentLabel] += 1\n",
    "    return confusion_matrix\n",
    "            \n"
   ]
  },
  {
   "cell_type": "markdown",
   "metadata": {},
   "source": [
    "# Algorithm Implementation\n"
   ]
  },
  {
   "cell_type": "markdown",
   "metadata": {},
   "source": [
    "### Loading Training Data and Labels."
   ]
  },
  {
   "cell_type": "code",
   "execution_count": 18,
   "metadata": {},
   "outputs": [],
   "source": [
    "X_train, T_train_labels = get_data(train_path, train_labels_path, 2400)"
   ]
  },
  {
   "cell_type": "markdown",
   "metadata": {},
   "source": [
    "### Loading Test Data and Lables."
   ]
  },
  {
   "cell_type": "code",
   "execution_count": 19,
   "metadata": {},
   "outputs": [],
   "source": [
    "X_test, T_test_labels = get_data(test_path, test_labels_path, 200)"
   ]
  },
  {
   "cell_type": "code",
   "execution_count": 161,
   "metadata": {
    "scrolled": true
   },
   "outputs": [],
   "source": [
    "all_test = np.zeros([0,0])\n",
    "for i in range(0, 10):\n",
    "    T_train =  np.where(T_train_labels == i, 1, -1)\n",
    "    X_train_t = np.transpose(X_train)\n",
    "    weights = np.linalg.pinv(np.mat(X_train_t)*np.mat(X_train))\\\n",
    "                *np.mat(X_train_t)*np.mat(T_train)\n",
    "    T_test = X_test * weights\n",
    "    if(i == 0):\n",
    "        all_test = T_test\n",
    "    else:\n",
    "        all_test = np.append(all_test, T_test , 1)"
   ]
  },
  {
   "cell_type": "markdown",
   "metadata": {},
   "source": [
    "### Calculating Confusion Matrix"
   ]
  },
  {
   "cell_type": "code",
   "execution_count": 163,
   "metadata": {
    "scrolled": true
   },
   "outputs": [
    {
     "name": "stdout",
     "output_type": "stream",
     "text": [
      "[[19.  0.  0.  0.  0.  0.  1.  0.  0.  0.]\n",
      " [ 0. 20.  0.  0.  0.  0.  0.  0.  0.  0.]\n",
      " [ 1.  3. 11.  2.  2.  1.  0.  0.  0.  0.]\n",
      " [ 0.  0.  0. 17.  0.  1.  0.  0.  2.  0.]\n",
      " [ 0.  0.  0.  0. 17.  1.  0.  1.  0.  1.]\n",
      " [ 0.  0.  0.  1.  0. 14.  1.  0.  2.  2.]\n",
      " [ 0.  0.  0.  0.  0.  0. 20.  0.  0.  0.]\n",
      " [ 0.  0.  1.  1.  0.  0.  0. 15.  0.  3.]\n",
      " [ 0.  0.  1.  0.  0.  3.  0.  0. 15.  1.]\n",
      " [ 1.  0.  0.  1.  1.  1.  0.  4.  0. 12.]]\n"
     ]
    }
   ],
   "source": [
    "confusion_matrix = create_confusion_matrix2(all_test, T_test_labels)\n",
    "print(confusion_matrix)"
   ]
  },
  {
   "cell_type": "markdown",
   "metadata": {},
   "source": [
    "### Converting confusion matrix to an Image"
   ]
  },
  {
   "cell_type": "code",
   "execution_count": 170,
   "metadata": {},
   "outputs": [],
   "source": [
    "image = np.where(confusion_matrix >= 0 , (confusion_matrix / 20) * 255, (confusion_matrix / 20) * 255)\n",
    "from PIL import Image\n",
    "new_p = Image.fromarray(image)\n",
    "new_p = new_p.convert(\"L\")\n",
    "new_p.save(\"Confusion.jpg\")"
   ]
  }
 ],
 "metadata": {
  "kernelspec": {
   "display_name": "Python 3",
   "language": "python",
   "name": "python3"
  },
  "language_info": {
   "codemirror_mode": {
    "name": "ipython",
    "version": 3
   },
   "file_extension": ".py",
   "mimetype": "text/x-python",
   "name": "python",
   "nbconvert_exporter": "python",
   "pygments_lexer": "ipython3",
   "version": "3.6.5"
  }
 },
 "nbformat": 4,
 "nbformat_minor": 2
}
